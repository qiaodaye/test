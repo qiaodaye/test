{
 "cells": [
  {
   "cell_type": "markdown",
   "metadata": {},
   "source": [
    "#### 对数据集进行分组并对各组应用一个函数(无论是聚合还是转换)，通常是数 据分析工作中的重要环节。在将数据集加载、融合、准备好之后，通常就是计 算分组统计或生成透视表。pandas 提供了一个灵活高效的 gruopby 功能，它使 你能以一种自然的方式对数据集进行切片、切块、摘要等操作。\n"
   ]
  },
  {
   "cell_type": "markdown",
   "metadata": {},
   "source": [
    "#### 关系型数据库和 SQL(Structured Query Language，结构化查询语言)能够如 此流行的原因之一就是其能够方便地对数据进行连接、过滤、转换和聚合。但 是，像 SQL 这样的查询语言所能执行的分组运算的种类很有限。在本章中你将 会看到，由于 Python 和 pandas 强大的表达能力，我们可以执行复杂得多的分 组运算(利用任何可以接受 pandas 对象或 NumPy 数组的函数)。在本章中，你 将会学到:\n"
   ]
  },
  {
   "cell_type": "markdown",
   "metadata": {},
   "source": [
    "####  计算分组摘要统计，如计数、平均值、标准差，或用户自定义函数。"
   ]
  },
  {
   "cell_type": "markdown",
   "metadata": {},
   "source": [
    "####  计算分组的概述统计，比如数量、平均值或标准差，或是用户定义的函数"
   ]
  },
  {
   "cell_type": "markdown",
   "metadata": {},
   "source": [
    "#### 应用组内转换或其他运算，如规格化、线性回归、排名或选取子集等。"
   ]
  },
  {
   "cell_type": "markdown",
   "metadata": {},
   "source": [
    "####  计算透视表或交叉表。"
   ]
  },
  {
   "cell_type": "markdown",
   "metadata": {},
   "source": [
    "####  执行分位数分析以及其它统计分组分析。"
   ]
  },
  {
   "cell_type": "markdown",
   "metadata": {},
   "source": [
    "#### 笔记:对时间序列数据的聚合(groupby 的特殊用法之一)也称作重采样 (resampling)，本书将在第 11 章中单独对其进行讲解。\n"
   ]
  },
  {
   "cell_type": "markdown",
   "metadata": {},
   "source": [
    "## 10.1 GroupBy 机制"
   ]
  },
  {
   "cell_type": "markdown",
   "metadata": {},
   "source": [
    "#### Hadley Wickham(许多热门 R 语言包的作者)创造了一个用于表示分组运算的 术语\"split-apply-combine\"(拆分-应用-合并)。第一个阶段，pandas 对 象(无论是 Series、DataFrame 还是其他的)中的数据会根据你所提供的一个 或多个键被拆分(split)为多组。拆分操作是在对象的特定轴上执行的。例如，DataFrame 可以在其行(axis=0)或列(axis=1)上进行分组。然后，将 一个函数应用(apply)到各个分组并产生一个新值。最后，所有这些函数的执 行结果会被合并(combine)到最终的结果对象中。结果对象的形式一般取决于 数据上所执行的操作。图 10-1 大致说明了一个简单的分组聚合过程。\n"
   ]
  },
  {
   "cell_type": "markdown",
   "metadata": {},
   "source": [
    "#### 分组键可以有多种形式，且类型不必相同:"
   ]
  },
  {
   "cell_type": "markdown",
   "metadata": {},
   "source": [
    "#### 列表或数组，其长度与待分组的轴一样。 表示 DataFrame 某个列名的值。 字典或 Series，给出待分组轴上的值与分组名之间的对应关系。  函数，用于处理轴索引或索引中的各个标签。\n"
   ]
  },
  {
   "cell_type": "markdown",
   "metadata": {},
   "source": [
    "#### 注意，后三种都只是快捷方式而已，其最终目的仍然是产生一组用于拆分对象 的值。如果觉得这些东西看起来很抽象，不用担心，我将在本章中给出大量有 关于此的示例。首先来看看下面这个非常简单的表格型数据集(以 DataFrame 的形式):\n"
   ]
  },
  {
   "cell_type": "code",
   "execution_count": null,
   "metadata": {},
   "outputs": [],
   "source": [
    "df = pd.DataFrame({'key1':['a','a','b','b','a']})"
   ]
  }
 ],
 "metadata": {
  "kernelspec": {
   "display_name": "Python 2",
   "language": "python",
   "name": "python2"
  },
  "language_info": {
   "codemirror_mode": {
    "name": "ipython",
    "version": 3
   },
   "file_extension": ".py",
   "mimetype": "text/x-python",
   "name": "python",
   "nbconvert_exporter": "python",
   "pygments_lexer": "ipython3",
   "version": "3.7.3"
  }
 },
 "nbformat": 4,
 "nbformat_minor": 2
}
